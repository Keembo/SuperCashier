{
 "cells": [
  {
   "cell_type": "code",
   "execution_count": 1,
   "metadata": {},
   "outputs": [
    {
     "name": "stdout",
     "output_type": "stream",
     "text": [
      "1. Tambah barang\n",
      "2. Periksa Transaksi\n",
      "1. Tambah barang\n",
      "2. Periksa Transaksi\n",
      "1. Tambah barang\n",
      "2. Periksa Transaksi\n",
      "Pemesanan sudah benar\n",
      "╒════════════════╤═══════════╤═════════════╤═════════════╤═════════════╕\n",
      "│ Nama Pembeli   │ Hakiim    │             │             │             │\n",
      "╞════════════════╪═══════════╪═════════════╪═════════════╪═════════════╡\n",
      "│ No             │ Nama Item │ Jumlah Item │ Harga/Item  │ Total Harga │\n",
      "├────────────────┼───────────┼─────────────┼─────────────┼─────────────┤\n",
      "│ 1              │ Kucing    │ 10.0        │ 100000.0    │ 1000000.0   │\n",
      "├────────────────┼───────────┼─────────────┼─────────────┼─────────────┤\n",
      "│ 2              │ Anjing    │ 20.0        │ 22222.0     │ 444440.0    │\n",
      "├────────────────┼───────────┼─────────────┼─────────────┼─────────────┤\n",
      "│                │           │             │ Total       │ 1444440.0   │\n",
      "├────────────────┼───────────┼─────────────┼─────────────┼─────────────┤\n",
      "│                │           │             │ Diskon      │ 144444.0    │\n",
      "├────────────────┼───────────┼─────────────┼─────────────┼─────────────┤\n",
      "│                │           │             │ Total Akhir │ 1299996.0   │\n",
      "╘════════════════╧═══════════╧═════════════╧═════════════╧═════════════╛\n"
     ]
    }
   ],
   "source": [
    "import SuperCashier\n",
    "\n",
    "sc = SuperCashier.Transaction()\n",
    "sc.add_item()"
   ]
  },
  {
   "cell_type": "code",
   "execution_count": 2,
   "metadata": {},
   "outputs": [
    {
     "name": "stdout",
     "output_type": "stream",
     "text": [
      "Pilih barang :\n",
      "1. Kucing\n",
      "2. Anjing\n"
     ]
    }
   ],
   "source": [
    "sc.update_item_qty()"
   ]
  },
  {
   "cell_type": "code",
   "execution_count": 3,
   "metadata": {},
   "outputs": [
    {
     "name": "stdout",
     "output_type": "stream",
     "text": [
      "╒════════════════╤═══════════╤═════════════╤═════════════╤═════════════╕\n",
      "│ Nama Pembeli   │ Hakiim    │             │             │             │\n",
      "╞════════════════╪═══════════╪═════════════╪═════════════╪═════════════╡\n",
      "│ No             │ Nama Item │ Jumlah Item │ Harga/Item  │ Total Harga │\n",
      "├────────────────┼───────────┼─────────────┼─────────────┼─────────────┤\n",
      "│ 1              │ Kucing    │ -1.0        │ 100000.0    │ -100000.0   │\n",
      "├────────────────┼───────────┼─────────────┼─────────────┼─────────────┤\n",
      "│ 2              │ Anjing    │ 20.0        │ 22222.0     │ 444440.0    │\n",
      "├────────────────┼───────────┼─────────────┼─────────────┼─────────────┤\n",
      "│                │           │             │ Total       │ 344440.0    │\n",
      "├────────────────┼───────────┼─────────────┼─────────────┼─────────────┤\n",
      "│                │           │             │ Diskon      │ 27555.2     │\n",
      "├────────────────┼───────────┼─────────────┼─────────────┼─────────────┤\n",
      "│                │           │             │ Total Akhir │ 316884.8    │\n",
      "╘════════════════╧═══════════╧═════════════╧═════════════╧═════════════╛\n"
     ]
    }
   ],
   "source": [
    "print(sc.display_items())"
   ]
  },
  {
   "cell_type": "code",
   "execution_count": null,
   "metadata": {},
   "outputs": [],
   "source": []
  }
 ],
 "metadata": {
  "kernelspec": {
   "display_name": "Python 3",
   "language": "python",
   "name": "python3"
  },
  "language_info": {
   "codemirror_mode": {
    "name": "ipython",
    "version": 3
   },
   "file_extension": ".py",
   "mimetype": "text/x-python",
   "name": "python",
   "nbconvert_exporter": "python",
   "pygments_lexer": "ipython3",
   "version": "3.11.4"
  },
  "orig_nbformat": 4
 },
 "nbformat": 4,
 "nbformat_minor": 2
}
